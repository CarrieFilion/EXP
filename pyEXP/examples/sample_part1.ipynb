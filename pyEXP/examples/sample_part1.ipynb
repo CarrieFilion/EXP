{
 "cells": [
  {
   "cell_type": "markdown",
   "id": "736320d0",
   "metadata": {},
   "source": [
    "# An example of creating coefficients using pyEXP\n",
    "This example assumes that you have run the `EXP/examples/Better` simulation.  But this notebook could be adapted for any simulation you like.\n",
    "\n",
    "We begin by importing `pyEXP` and friends and setting the working directory."
   ]
  },
  {
   "cell_type": "code",
   "execution_count": null,
   "id": "1ed1fc36",
   "metadata": {},
   "outputs": [],
   "source": [
    "import os\n",
    "import yaml\n",
    "import pyEXP\n",
    "\n",
    "# I have the Better run here; obviously another use will want to\n",
    "# change this a directory containing some snapshots of their own\n",
    "#\n",
    "os.chdir('/home/weinberg/Nbody/Better')"
   ]
  },
  {
   "cell_type": "markdown",
   "id": "f92d6788",
   "metadata": {},
   "source": [
    "## Create the basis\n",
    "We'll only do the halo coefficients in this simple example.  The cylindrical coefficients would procede similarly.  See the `sample_basis` notebook for an example of creating the cylindrical basis."
   ]
  },
  {
   "cell_type": "code",
   "execution_count": null,
   "id": "03899777",
   "metadata": {},
   "outputs": [],
   "source": [
    "# Get the basis config\n",
    "#\n",
    "yaml_config = \"\"\n",
    "with open('basis.yaml') as f:\n",
    "    config = yaml.load(f, Loader=yaml.FullLoader)\n",
    "    yaml_config = yaml.dump(config)\n",
    "\n",
    "# Alternatively, you could construct this on the fly, e.g.\n",
    "bconfig = \"\"\"\n",
    "---\n",
    "id: sphereSL\n",
    "parameters :\n",
    "  numr: 2000\n",
    "  rmin: 0.0001\n",
    "  rmax: 1.95\n",
    "  Lmax: 4\n",
    "  nmax: 10\n",
    "  rs: 0.0667\n",
    "  modelname: SLGridSph.model\n",
    "...\n",
    "\"\"\"\n",
    "print('-'*60)\n",
    "print('Read from file')\n",
    "print('-'*60)\n",
    "print(yaml_config)\n",
    "print('-'*60)\n",
    "print('Constructed from string')\n",
    "print('-'*60)\n",
    "print(bconfig)\n",
    "print('-'*60)\n",
    "\n",
    "# Construct the basis instance\n",
    "#\n",
    "basis   = pyEXP.basis.Basis.factory(yaml_config)"
   ]
  },
  {
   "cell_type": "markdown",
   "id": "ab2066fc",
   "metadata": {},
   "source": [
    "## Creating a particle reader\n",
    "Now that we have a basis, we can use it to create coefficients from the particle snapshots.  `pyEXP` uses a `ParticleReader` object for that.\n",
    "\n",
    "The first step is to hand off the files that comprise a snapshot for every time slice.  The `ParticleReader` provides a helper function for that.   There are two helper functions: `parseFileList` and `parseStringList`.  The first reads a list from a file and the second takes a list.  Otherwise they are the same.  The file names in the list are assumed to end with a snapshot index and an optional part index.  For example, if you have single files per snapshot, the list might look like: `myrun.00000`, `myrun.00001`, etc.  If you have multiple files per snapshot, they will look something like `myrun.00000_0001`, `myrun.00000_0002`, `myrun.00001_0000`, `myrun.00001_0001`, etc.\n",
    "\n",
    "Here is the call for a file:"
   ]
  },
  {
   "cell_type": "code",
   "execution_count": null,
   "id": "1549afbf",
   "metadata": {},
   "outputs": [],
   "source": [
    "# Construct batches of files the particle reader.  One could use the\n",
    "# parseStringList to create batches from a vector/list of files.  NB:\n",
    "# a std::vector in C++ becomes a Python.list and vice versa\n",
    "#\n",
    "batches = pyEXP.read.ParticleReader.parseFileList('file.list', '')"
   ]
  },
  {
   "cell_type": "markdown",
   "id": "a77e06c1",
   "metadata": {},
   "source": [
    "We now iterate the `batches` created by the file parser to create the coefficients.   For each batch we create a new reader and pass the reader to the basis instance.  The `basis.createCoefficients` member creates and returns the coefficients.  The coefficients are added to a coefficient container called `coefs`.  Note: on the first call `coefs=None` so a new container is created on the first time through."
   ]
  },
  {
   "cell_type": "code",
   "execution_count": null,
   "id": "917e2c02",
   "metadata": {},
   "outputs": [],
   "source": [
    "# This will contain the coefficient container, need to start will a\n",
    "# null instance to trigger construction\n",
    "#\n",
    "coefs   = None\n",
    "\n",
    "for group in batches:\n",
    "\n",
    "    print(\"file group is\", group)\n",
    "\n",
    "    # Make the reader for the desired type.  One could probably try to\n",
    "    # do this by inspection but that's another project.\n",
    "    #\n",
    "    reader = pyEXP.read.ParticleReader.createReader('PSPout', group, 0, False);\n",
    "\n",
    "    # Print the type list\n",
    "    #\n",
    "    print('The component names are:', reader.GetTypes())\n",
    "\n",
    "    compname = 'dark halo'\n",
    "    reader.SelectType(compname)\n",
    "    print('Selected', compname)\n",
    "\n",
    "    print('Call createCoefficients at Time', reader.CurrentTime(), 'for', reader.CurrentNumber(), 'particles')\n",
    "\n",
    "    coef = basis.createCoefficients(reader)\n",
    "    print(\"Created coef\")\n",
    "\n",
    "    # We need this stupid idiom here because None is not mapping to a\n",
    "    # null pointer.  There is probably a way to do this.  Suggestions\n",
    "    # anyone?\n",
    "    #                          This is optional---+\n",
    "    #                                             |\n",
    "    if coefs is None:           #                 v\n",
    "        coefs = pyEXP.coefs.Coefs.makecoefs(coef, compname)\n",
    "    else:\n",
    "        coefs.add(coef)\n",
    "\n",
    "    print('Added coef')\n",
    "    print('-'*60)\n",
    "\n",
    "print('\\nCompleted the file group list\\n')\n",
    "\n",
    "print('The coefficient time list is', coefs.Times())"
   ]
  },
  {
   "cell_type": "markdown",
   "id": "455fc72d",
   "metadata": {},
   "source": [
    "## Using a FieldGenerator\n",
    "Now that we have our new coefficients, we can use the `FieldGenerator` to view the BFE representation of the underlying fields.  Here is an example:"
   ]
  },
  {
   "cell_type": "code",
   "execution_count": null,
   "id": "9009be62",
   "metadata": {},
   "outputs": [],
   "source": [
    "# Now try some slices for rendering\n",
    "#\n",
    "\n",
    "times = coefs.Times()[0:3]\n",
    "pmin  = [-1.0, -1.0, 0.0]\n",
    "pmax  = [ 1.0,  1.0, 0.0]\n",
    "grid  = [  40,   40,   0]\n",
    "\n",
    "fields = pyEXP.field.FieldGenerator(times, pmin, pmax, grid)\n",
    "\n",
    "surfaces = fields.slices(basis, coefs)\n",
    "\n",
    "print(\"We now have the following [time field] pairs\")\n",
    "for v in surfaces:\n",
    "    print('-'*40)\n",
    "    for u in surfaces[v]:\n",
    "        print(\"{:8.4f}  {}\".format(v, u))\n",
    "\n",
    "print(\"\\nHere is the first one:\")\n",
    "for v in surfaces:\n",
    "    for u in surfaces[v]:\n",
    "        print('-'*40)\n",
    "        print('----', u)\n",
    "        print('-'*40)\n",
    "        print(surfaces[v][u])\n",
    "    break"
   ]
  },
  {
   "cell_type": "markdown",
   "id": "b5987403",
   "metadata": {},
   "source": [
    "These could be make into images and so forth.   We'll do this in another example notebook.\n",
    "\n",
    "## Saving the coefficients\n",
    "\n",
    "At this point, it makes sense to save the coefficients that you have just created.  This is sone with the following call:"
   ]
  },
  {
   "cell_type": "code",
   "execution_count": null,
   "id": "730e21e8",
   "metadata": {},
   "outputs": [],
   "source": [
    "coefs.WriteH5Coefs('test_better')"
   ]
  },
  {
   "cell_type": "markdown",
   "id": "768e73d4",
   "metadata": {},
   "source": [
    "We now have a EXP HDF5 coefficient file called `test_better.h5`.    As an example, let's try reading the newly created file into another coefficient container, `coefs2`.  The container has a member function called `CompareStanzas` which will check on the contents.  Let's do it."
   ]
  },
  {
   "cell_type": "code",
   "execution_count": null,
   "id": "4cc3d3d7",
   "metadata": {},
   "outputs": [],
   "source": [
    "# Now try reading it in\n",
    "#\n",
    "coefs2 = pyEXP.coefs.Coefs.factory('test_better.h5')\n",
    "print(\"Type is\", coefs2.getGeometry())\n",
    "\n",
    "# Now compare with the original\n",
    "#\n",
    "coefs2.CompareStanzas(coefs)"
   ]
  },
  {
   "cell_type": "markdown",
   "id": "fc6cabce",
   "metadata": {},
   "source": [
    "This member function will print differences.  No differenced should be printed, of course."
   ]
  }
 ],
 "metadata": {
  "kernelspec": {
   "display_name": "Python 3 (ipykernel)",
   "language": "python",
   "name": "python3"
  },
  "language_info": {
   "codemirror_mode": {
    "name": "ipython",
    "version": 3
   },
   "file_extension": ".py",
   "mimetype": "text/x-python",
   "name": "python",
   "nbconvert_exporter": "python",
   "pygments_lexer": "ipython3",
   "version": "3.10.4"
  }
 },
 "nbformat": 4,
 "nbformat_minor": 5
}
