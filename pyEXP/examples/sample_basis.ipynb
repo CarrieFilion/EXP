{
 "cells": [
  {
   "cell_type": "markdown",
   "id": "696c4c2c",
   "metadata": {},
   "source": [
    "# Viewing basis functions using pyEXP\n",
    "This example uses the Better example in the EXP/examples directory and assumes that you have run the simulation using EXP.  Easily adapted for other circumstances.\n",
    "\n",
    "We begin by including the usual header material.  Then point at your desired working directory."
   ]
  },
  {
   "cell_type": "code",
   "execution_count": null,
   "id": "bedd0139",
   "metadata": {},
   "outputs": [],
   "source": [
    "import os\n",
    "import yaml\n",
    "import time\n",
    "import pyEXP\n",
    "import numpy as np\n",
    "import matplotlib.pyplot as plt\n",
    "\n",
    "os.chdir('/home/weinberg/Nbody/Better')"
   ]
  },
  {
   "cell_type": "markdown",
   "id": "7e27b991",
   "metadata": {},
   "source": [
    "## Making the biorthogonal basis instances for the halo and disk\n",
    "Every basis needs a YAML.  These are copied directly from the EXP YAML config file for the halo and disk."
   ]
  },
  {
   "cell_type": "code",
   "execution_count": null,
   "id": "c3c868e4",
   "metadata": {},
   "outputs": [],
   "source": [
    "# Make the halo basis config\n",
    "halo_config=\"\"\"\n",
    "---\n",
    "id: sphereSL\n",
    "parameters :\n",
    "  numr: 2000\n",
    "  rmin: 0.0001\n",
    "  rmax: 1.95\n",
    "  Lmax: 4\n",
    "  nmax: 10\n",
    "  rs: 0.0667\n",
    "  modelname: SLGridSph.model\n",
    "...\n",
    "\"\"\"\n",
    "\n",
    "# Make the disk basis config\n",
    "#\n",
    "disk_config = \"\"\"\n",
    "---\n",
    "id: cylinder\n",
    "parameters:\n",
    "  acyl: 0.01\n",
    "  hcyl: 0.001\n",
    "  lmax: 32\n",
    "  mmax: 6\n",
    "  nmax: 32\n",
    "  ncylorder: 8\n",
    "  ncylnx: 256\n",
    "  ncylny: 128\n",
    "  rnum: 200\n",
    "  pnum: 0\n",
    "  tnum: 80\n",
    "  ashift: 0.5\n",
    "  vflag: 0\n",
    "  logr: false\n",
    "  density: false\n",
    "  eof_file: .eof.cache.run0\n",
    "...\n",
    "\"\"\""
   ]
  },
  {
   "cell_type": "raw",
   "id": "0c4908ad",
   "metadata": {},
   "source": [
    "Now we can construct the two basis instances from those config."
   ]
  },
  {
   "cell_type": "code",
   "execution_count": null,
   "id": "53cdcd52",
   "metadata": {},
   "outputs": [],
   "source": [
    "# Construct the basis instances\n",
    "#\n",
    "halo_basis = pyEXP.basis.Basis.factory(halo_config)\n",
    "disk_basis = pyEXP.basis.Basis.factory(disk_config)"
   ]
  },
  {
   "cell_type": "markdown",
   "id": "799a4691",
   "metadata": {},
   "source": [
    "## Viewing some basis functions\n",
    "The `getBasis` member for each basis returns a vectors of arrays for the basis functions on the grid you have defined.  See the following examples."
   ]
  },
  {
   "cell_type": "code",
   "execution_count": null,
   "id": "6271d915",
   "metadata": {},
   "outputs": [],
   "source": [
    "# Get the two basis grids\n",
    "#\n",
    "lrmin = -3.0\n",
    "lrmax = 0.5\n",
    "rnum  = 200\n",
    "halo_grid = halo_basis.getBasis(lrmin, lrmax, rnum)\n",
    "\n",
    "Rmin = 0.0\n",
    "Rmax = 0.1\n",
    "Rnum = 100\n",
    "Zmin = -0.03\n",
    "Zmax =  0.03\n",
    "Znum = 40\n",
    "\n",
    "disk_grid = disk_basis.getBasis(Rmin, Rmax, Rnum, Zmin, Zmax, Znum)"
   ]
  },
  {
   "cell_type": "markdown",
   "id": "89394a1e",
   "metadata": {},
   "source": [
    "Now that we have the basis function grids, we can plot them.  Beginning with the halo.  The halo basis are one-dimensional functions."
   ]
  },
  {
   "cell_type": "code",
   "execution_count": null,
   "id": "2dbbe468",
   "metadata": {},
   "outputs": [],
   "source": [
    "# Make a logarithmically space grid in radius\n",
    "#\n",
    "r = np.linspace(lrmin, lrmax, rnum)\n",
    "r = np.power(10.0, r)\n",
    "\n",
    "for l in range(3):\n",
    "    for n in range(5):\n",
    "        plt.semilogx(r, halo_grid[l][n], '-', label=\"n={}\".format(n))\n",
    "    plt.xlabel('r')\n",
    "    plt.ylabel('potential')\n",
    "    plt.title('l={}'.format(l))\n",
    "    plt.legend()\n",
    "    plt.show()\n",
    "  "
   ]
  },
  {
   "cell_type": "markdown",
   "id": "b8677bcd",
   "metadata": {},
   "source": [
    "The cylindrical basis are two-dimensional merional planes.   We'll use `contourf` for those."
   ]
  },
  {
   "cell_type": "code",
   "execution_count": null,
   "id": "a0663044",
   "metadata": {},
   "outputs": [],
   "source": [
    "  \n",
    "R = np.linspace(Rmin, Rmax, Rnum)\n",
    "Z = np.linspace(Zmin, Zmax, Znum)\n",
    "\n",
    "xv, yv = np.meshgrid(R, Z)\n",
    "\n",
    "for m in range(3):\n",
    "    for n in range(5):\n",
    "        # Tranpose for contourf\n",
    "        cx = plt.contourf(xv, yv, disk_grid[m][n].transpose())\n",
    "        plt.xlabel('R')\n",
    "        plt.ylabel('Z')\n",
    "        plt.title('m, n={}, {}'.format(m, n))\n",
    "        plt.colorbar(cx)\n",
    "        plt.show()\n",
    "    "
   ]
  }
 ],
 "metadata": {
  "kernelspec": {
   "display_name": "Python 3 (ipykernel)",
   "language": "python",
   "name": "python3"
  },
  "language_info": {
   "codemirror_mode": {
    "name": "ipython",
    "version": 3
   },
   "file_extension": ".py",
   "mimetype": "text/x-python",
   "name": "python",
   "nbconvert_exporter": "python",
   "pygments_lexer": "ipython3",
   "version": "3.10.4"
  }
 },
 "nbformat": 4,
 "nbformat_minor": 5
}
