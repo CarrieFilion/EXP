{
 "cells": [
  {
   "cell_type": "markdown",
   "id": "867dc6f5",
   "metadata": {},
   "source": [
    "# Mike's test case\n",
    "\n",
    "Begin by making a data file"
   ]
  },
  {
   "cell_type": "code",
   "execution_count": 1,
   "id": "67be0f77",
   "metadata": {},
   "outputs": [],
   "source": [
    "import numpy as np\n",
    "f = open('Test.dat','w')\n",
    "omega = 0.75\n",
    "for i in range(0,10000):\n",
    "    T = 0.01*i\n",
    "    phi = omega*T\n",
    "    R = np.random.rand(3) + np.cos(phi)\n",
    "    print(T, R[0], R[1], R[2],file=f)\n",
    "f.close()"
   ]
  },
  {
   "cell_type": "markdown",
   "id": "33f373b5",
   "metadata": {},
   "source": [
    "### Now generate the SSA"
   ]
  },
  {
   "cell_type": "code",
   "execution_count": null,
   "id": "9ac3cb2b",
   "metadata": {},
   "outputs": [],
   "source": [
    "import pyEXP\n",
    "coefs = pyEXP.coefs.Coefs.factory('Test.dat')\n",
    "\n",
    "# A list with one key.  Keys are integer arrays (or lists).  \n",
    "# The first column of the data table has the key [0]\n",
    "keylst = [[0]]\n",
    "config = {\"cosine\": (coefs, keylst, [])}\n",
    "\n",
    "# Window size is half the time series (a good default choice if it's practical)\n",
    "window = int(len(coefs.Times())/2)\n",
    "\n",
    "# Keep the first 10 PCs\n",
    "npc = 10\n",
    "\n",
    "# An example of make YAML flags (commented out here)\n",
    "flags = \"\"\"\n",
    "Jacobi: true\n",
    "# Traj: true\n",
    "\"\"\"\n",
    "\n",
    "# Initialize the MSSA and compute the eigenvalues\n",
    "ssa = pyEXP.mssa.expMSSA(config, window, npc, flags)\n",
    "ev = ssa.eigenvalues()"
   ]
  },
  {
   "cell_type": "markdown",
   "id": "4a707fd1",
   "metadata": {},
   "source": [
    "### Plot the eigenvalues"
   ]
  },
  {
   "cell_type": "code",
   "execution_count": null,
   "id": "d7d30378",
   "metadata": {},
   "outputs": [],
   "source": [
    "import matplotlib.pyplot as plt\n",
    "\n",
    "plt.semilogy(ev, '-o')\n",
    "plt.xlabel('index')\n",
    "plt.ylabel('eigenvalue')\n",
    "plt.show()"
   ]
  },
  {
   "cell_type": "markdown",
   "id": "a36a82b4",
   "metadata": {},
   "source": [
    "### Look at the first four PCs"
   ]
  },
  {
   "cell_type": "code",
   "execution_count": null,
   "id": "ba7d95c4",
   "metadata": {},
   "outputs": [],
   "source": [
    "pc = ssa.getPC()\n",
    "nt = pc.shape[0]\n",
    "for i in range(4):\n",
    "    plt.plot(coefs.Times()[:nt], pc[:,i], label=str(i))\n",
    "plt.xlabel('Time')\n",
    "plt.ylabel('PC')\n",
    "plt.legend()\n",
    "plt.show()"
   ]
  },
  {
   "cell_type": "markdown",
   "id": "3ba73554",
   "metadata": {},
   "source": [
    "### Compute the power spectrum of the PCs"
   ]
  },
  {
   "cell_type": "code",
   "execution_count": null,
   "id": "aa930536",
   "metadata": {},
   "outputs": [],
   "source": [
    "freq, power = ssa.pcDFT()\n",
    "for i in range(power.shape[1]):\n",
    "    plt.plot(freq[0:20], power[0:20,i], label=str(i))\n",
    "plt.xlabel('Frequency')\n",
    "plt.ylabel('Power')\n",
    "plt.legend()\n",
    "plt.show()"
   ]
  },
  {
   "cell_type": "markdown",
   "id": "835aeb07",
   "metadata": {},
   "source": [
    "We expect our power at $f=1$ and that's what we find!"
   ]
  },
  {
   "cell_type": "markdown",
   "id": "b8bb17f7",
   "metadata": {},
   "source": [
    "### Compute the power spectrum of the reconstruction"
   ]
  },
  {
   "cell_type": "code",
   "execution_count": null,
   "id": "adf19378",
   "metadata": {},
   "outputs": [],
   "source": [
    "ssa.reconstruct([0, 1])\n",
    "\n",
    "# Show the available keys . . . \n",
    "print(\"Keylist is:\", ssa.getRCkeys())"
   ]
  },
  {
   "cell_type": "code",
   "execution_count": null,
   "id": "ea5a991c",
   "metadata": {},
   "outputs": [],
   "source": [
    "recon = ssa.getRC([0, 0])\n",
    "for i in range(recon.shape[1]):\n",
    "    plt.plot(coefs.Times(), recon[:,i], label=str(i))\n",
    "plt.xlabel('time')\n",
    "plt.ylabel('column(0)')\n",
    "plt.legend()\n",
    "plt.show()"
   ]
  },
  {
   "cell_type": "markdown",
   "id": "60ce816a",
   "metadata": {},
   "source": [
    "Do the reconstruction for all available PCs"
   ]
  },
  {
   "cell_type": "code",
   "execution_count": null,
   "id": "4c80cacf",
   "metadata": {},
   "outputs": [],
   "source": [
    "ssa.reconstruct([*range(npc)])"
   ]
  },
  {
   "cell_type": "markdown",
   "id": "f43c17e6",
   "metadata": {},
   "source": [
    "Now plot the power as before."
   ]
  },
  {
   "cell_type": "code",
   "execution_count": null,
   "id": "5cd340de",
   "metadata": {},
   "outputs": [],
   "source": [
    "key = [0, 0] # First column, first data set\n",
    "\n",
    "freq, power = ssa.singleDFT(key)\n",
    "\n",
    "for i in range(2):\n",
    "    plt.plot(freq[0:40], power[0:40,i], label=str(i))\n",
    "plt.xlabel('Frequency')\n",
    "plt.ylabel('Power')\n",
    "plt.title('This shows the power contribution to the data from PC 0, 1')\n",
    "plt.legend()\n",
    "plt.show()\n",
    "\n",
    "for i in range(2, npc):\n",
    "    plt.semilogy(freq, power[:,i], label=str(i))\n",
    "plt.xlabel('Frequency')\n",
    "plt.ylabel('Power')\n",
    "plt.title('This shows the power contribution to the data from PC 2 through 9')\n",
    "plt.legend()\n",
    "plt.show()\n",
    "\n",
    "freq, power = ssa.channelDFT()\n",
    "for i in range(power.shape[1]):\n",
    "    plt.plot(freq[0:40], power[0:40,i], label=str(i))\n",
    "plt.xlabel('Frequency')\n",
    "plt.ylabel('Power')\n",
    "plt.title('Power in the reconstruction to the data for PC 0, 1')\n",
    "plt.legend()\n",
    "plt.show()"
   ]
  },
  {
   "cell_type": "markdown",
   "id": "3fcbcdba",
   "metadata": {},
   "source": [
    "This shows the power contribution to the data column 0 from each PC.  It's all PC 0, 1, of course, at the same frequency ($f=1$) as the PC itself.  The remaining power from the noise is spread into the remaining PCs."
   ]
  }
 ],
 "metadata": {
  "kernelspec": {
   "display_name": "Python 3 (ipykernel)",
   "language": "python",
   "name": "python3"
  },
  "language_info": {
   "codemirror_mode": {
    "name": "ipython",
    "version": 3
   },
   "file_extension": ".py",
   "mimetype": "text/x-python",
   "name": "python",
   "nbconvert_exporter": "python",
   "pygments_lexer": "ipython3",
   "version": "3.10.6"
  }
 },
 "nbformat": 4,
 "nbformat_minor": 5
}
