{
 "cells": [
  {
   "cell_type": "markdown",
   "id": "c9477147",
   "metadata": {},
   "source": [
    "# An analysis of the Gadget HDF5 initial condition test\n",
    "\n",
    "Begin with the usual imports"
   ]
  },
  {
   "cell_type": "code",
   "execution_count": null,
   "id": "f2b21021",
   "metadata": {},
   "outputs": [],
   "source": [
    "import os\n",
    "import copy\n",
    "import yaml\n",
    "import time\n",
    "import pyEXP\n",
    "import numpy as np\n",
    "import matplotlib.pyplot as plt\n",
    "from matplotlib import ticker\n",
    "from os.path import exists\n",
    "\n",
    "plt.rcParams['figure.figsize'] = [12, 9]"
   ]
  },
  {
   "cell_type": "markdown",
   "id": "6c1d9c53",
   "metadata": {},
   "source": [
    "### Switch to the working directory\n",
    "I like to be explicit about my working directory but you don't need to do this here.  It would be sufficient to simply pass the full path to the coefficient factory below."
   ]
  },
  {
   "cell_type": "code",
   "execution_count": null,
   "id": "0cf8659f",
   "metadata": {},
   "outputs": [],
   "source": [
    "os.chdir('/media/weinberg/Simulation data/Nbody/Sphere/RunG')"
   ]
  },
  {
   "cell_type": "markdown",
   "id": "3a798b7d",
   "metadata": {},
   "source": [
    "### Configure the basis"
   ]
  },
  {
   "cell_type": "code",
   "execution_count": null,
   "id": "62194652",
   "metadata": {},
   "outputs": [],
   "source": [
    "# Get the basis config\n",
    "#\n",
    "halo_config = \"\"\"\n",
    "id          : sphereSL\n",
    "parameters  :\n",
    "  numr      : 1000\n",
    "  rmin      : 0.000011\n",
    "  rmax      : 1.99\n",
    "  Lmax      : 6\n",
    "  nmax      : 18\n",
    "  rs        : 0.05\n",
    "  modelname : mw_halo.model\n",
    "\"\"\"\n",
    "\n",
    "\n",
    "# Construct the basis instance\n",
    "#\n",
    "halo_basis = pyEXP.basis.Basis.factory(halo_config)"
   ]
  },
  {
   "cell_type": "markdown",
   "id": "d51a62ec",
   "metadata": {},
   "source": [
    "### Read the coefficients\n",
    "This is a HDF5 file previously computed using the `make_coefficients_MPI.py` script.  You simply need to point `coeffile` at some coefficient file."
   ]
  },
  {
   "cell_type": "code",
   "execution_count": null,
   "id": "3feaac21",
   "metadata": {},
   "outputs": [],
   "source": [
    "coeffile = 'RunG_halo_test.h5' # My test set...\n",
    "coefs = pyEXP.coefs.Coefs.factory(coeffile)"
   ]
  },
  {
   "cell_type": "markdown",
   "id": "f692b45a",
   "metadata": {},
   "source": [
    "### Check by making some surface renderings\n",
    "Uses the final time slice but you could easily loop through all of them to make a movie, etc."
   ]
  },
  {
   "cell_type": "code",
   "execution_count": null,
   "id": "ac7e4712",
   "metadata": {
    "scrolled": true
   },
   "outputs": [],
   "source": [
    "# Make the coefficients by the factory method\n",
    "#\n",
    "\n",
    "print('The coefficient time list is {} slices in [{}, {}]', len(coefs.Times()), coefs.Times()[0], coefs.Times()[-1])\n",
    "#\n",
    "times = coefs.Times()[-1:]\n",
    "pmin  = [-0.5, -0.5, 0.0]\n",
    "pmax  = [ 0.5,  0.5, 0.0]\n",
    "grid  = [  40,   40,   0]\n",
    "\n",
    "print('Creating surfaces with times:', times)\n",
    "\n",
    "fields = pyEXP.field.FieldGenerator(times, pmin, pmax, grid)\n",
    "\n",
    "print('Created fields instance')\n",
    "\n",
    "surfaces = fields.slices(halo_basis, coefs)\n",
    "\n",
    "print('Created surfaces')\n",
    "\n",
    "print(\"We now have the following [time field] pairs\")\n",
    "final = 0.0\n",
    "for v in surfaces:\n",
    "    print('-'*40)\n",
    "    for u in surfaces[v]:\n",
    "        print(\"{:8.4f}  {}\".format(v, u))\n",
    "        final = v\n",
    "\n",
    "# Print the potential image at the final time\n",
    "# \n",
    "nx = surfaces[final]['d'].shape[0]\n",
    "ny = surfaces[final]['d'].shape[1]\n",
    "\n",
    "x = np.linspace(pmin[0], pmax[0], nx)\n",
    "y = np.linspace(pmin[1], pmax[1], ny)\n",
    "xv, yv = np.meshgrid(x, y)\n",
    "\n",
    "cont1 = plt.contour(xv, yv, surfaces[final]['d'].transpose(), colors='k', locator=ticker.LogLocator())\n",
    "# cont1 = plt.contour(xv, yv, surfaces[final]['d'].transpose(), colors='k')\n",
    "plt.clabel(cont1, fontsize=9, inline=True)\n",
    "cont2 = plt.contourf(xv, yv, surfaces[final]['d'].transpose(), locator=ticker.LogLocator())\n",
    "# cont2 = plt.contourf(xv, yv, surfaces[final]['d'].transpose())\n",
    "plt.colorbar(cont2)\n",
    "plt.xlabel('x')\n",
    "plt.ylabel('y')\n",
    "plt.title('Density at T={}'.format(final))\n",
    "plt.show()\n",
    "\n",
    "cont1 = plt.contour(xv, yv, surfaces[final]['fr'].transpose(), colors='k')\n",
    "plt.clabel(cont1, fontsize=9, inline=True)\n",
    "cont2 = plt.contourf(xv, yv, surfaces[final]['fr'].transpose())\n",
    "plt.colorbar(cont2)\n",
    "plt.xlabel('x')\n",
    "plt.ylabel('y')\n",
    "plt.title('Radial force at T={}'.format(final))\n",
    "plt.show()\n",
    "\n",
    "cont1 = plt.contour(xv, yv, surfaces[final]['ft'].transpose(), colors='k')\n",
    "plt.clabel(cont1, fontsize=9, inline=True)\n",
    "cont2 = plt.contourf(xv, yv, surfaces[final]['ft'].transpose())\n",
    "plt.colorbar(cont2)\n",
    "plt.xlabel('x')\n",
    "plt.ylabel('y')\n",
    "plt.title('Vertical force at T={}'.format(final))\n",
    "plt.show()"
   ]
  },
  {
   "cell_type": "markdown",
   "id": "af20af66",
   "metadata": {},
   "source": [
    "### Test the basis field evaluator\n",
    "First, we need to provide a coefficient set to the basis.  Then we use `getFields` to evaluate along the x axis and plot."
   ]
  },
  {
   "cell_type": "code",
   "execution_count": null,
   "id": "d7c01fc4",
   "metadata": {},
   "outputs": [],
   "source": [
    "# Set the coefficients to the last time in the container\n",
    "cof = coefs.getCoefStruct(coefs.Times()[-1])\n",
    "halo_basis.set_coefs(cof)\n",
    "\n",
    "# Evaluate the fields along the x axis\n",
    "x = np.arange(-1, 1, 0.01)\n",
    "fields = []\n",
    "for i in range(len(x)):\n",
    "    fields.append(halo_basis.getFields(x[i], 0.0, 0.0))\n",
    "data = np.array(fields)"
   ]
  },
  {
   "cell_type": "code",
   "execution_count": null,
   "id": "a1b28597",
   "metadata": {},
   "outputs": [],
   "source": [
    "fig, ax = plt.subplots(3, 1)\n",
    "\n",
    "ax[0].semilogy(x, data[:,0]+data[:,2])\n",
    "ax[0].set_ylabel('Density')\n",
    "\n",
    "ax[1].plot(x, data[:,1]+data[:,3])\n",
    "ax[1].set_ylabel('Potential')\n",
    "\n",
    "ax[2].plot(x, data[:,4], label='x accel')\n",
    "ax[2].plot(x, data[:,5], label='y accel')\n",
    "ax[2].plot(x, data[:,6], label='z accel')\n",
    "ax[2].legend()\n",
    "ax[2].set_xlabel('x position')\n",
    "ax[2].set_ylabel('acceleration')\n",
    "\n",
    "plt.show()"
   ]
  },
  {
   "cell_type": "markdown",
   "id": "4bfee8f4",
   "metadata": {},
   "source": [
    "### Plot some of the coefficients\n",
    "Make two panels: one with the l=m=0 coefficients and one with some l>1 coefficients."
   ]
  },
  {
   "cell_type": "code",
   "execution_count": null,
   "id": "da8e69cf",
   "metadata": {
    "scrolled": true
   },
   "outputs": [],
   "source": [
    "times = coefs.Times()\n",
    "data  = coefs.getAllCoefs()\n",
    "\n",
    "def I(l, m):\n",
    "    return int(l*(l+1)/2) + 1\n",
    "\n",
    "fig, ax = plt.subplots(2, 1)\n",
    "\n",
    "for n in range(0, 4):\n",
    "    ax[0].plot(times, np.real(data[0, n, :]), label='{} {} {}'.format(0, 0, n))\n",
    "ax[0].set_ylabel(r'$C_{lmn}$')\n",
    "ax[0].legend(bbox_to_anchor=(1.15, 1.0))\n",
    "\n",
    "for l in range(1, 3):\n",
    "    for m in range(0, l+1):\n",
    "        for n in range(0, 3):\n",
    "            ax[1].plot(times, np.real(data[I(l, m), n, :]), label='{} {} {} c'.format(l, m, n))\n",
    "            ax[1].plot(times, np.imag(data[I(l, m), n, :]), label='{} {} {} s'.format(l, m, n))\n",
    "ax[1].set_xlabel('Time')\n",
    "ax[1].set_ylabel(r'$C_{lmn}$')\n",
    "ax[1].legend(bbox_to_anchor=(1.15, 1.0))\n",
    "\n",
    "plt.show()"
   ]
  },
  {
   "cell_type": "markdown",
   "id": "d948ef79",
   "metadata": {},
   "source": [
    "### Plot the power\n",
    "The the run of gravitational power with for each harmonic $l$ is returned in a array using the `Power()` member of `Coefs`.   These can be simply plotting using the `Times()` array as follows:"
   ]
  },
  {
   "cell_type": "code",
   "execution_count": null,
   "id": "5917c639",
   "metadata": {
    "scrolled": false
   },
   "outputs": [],
   "source": [
    "power = coefs.Power()\n",
    "for i in range(0, power.shape[1]):\n",
    "    plt.semilogy(coefs.Times(), power[:,i], label='{}'.format(i))\n",
    "plt.legend()\n",
    "plt.xlabel('Time')\n",
    "plt.ylabel(r'power=$[\\sum_{mn}|a_{lmn}|^2]^{1/2}$')\n",
    "plt.show()"
   ]
  },
  {
   "cell_type": "markdown",
   "id": "31162619",
   "metadata": {},
   "source": [
    "### Let's apply MSSA to this coefficient set\n",
    "We know from experience and the power plot above, that $l=1$ is key.  So lets start by examining the $l=1$ subspace."
   ]
  },
  {
   "cell_type": "code",
   "execution_count": null,
   "id": "67fcc6b4",
   "metadata": {},
   "outputs": [],
   "source": [
    "# Make some custom [l, m, n] pairs\n",
    "keylst = [[1, 0, 0], [1, 0, 1], [1, 0, 2], [1, 0, 3], [1, 1, 0], [1, 1, 1], [1, 1, 2], [1, 1, 3]]\n",
    "print(\"Custom keys=\", keylst)\n",
    "\n",
    "config = {coefs.getName(): (coefs, keylst, [])}\n",
    "\n",
    "window = int(len(coefs.Times())/2)\n",
    "npc = 10\n",
    "\n",
    "print(\"Window={} PC number={}\".format(window, npc))\n",
    "\n",
    "startTime = time.time()\n",
    "ssa = pyEXP.mssa.expMSSA(config, window, npc)\n",
    "\n",
    "ev = ssa.eigenvalues()\n",
    "print('Computed eigenvalues in {:6.2f} seconds'.format(time.time() - startTime))"
   ]
  },
  {
   "cell_type": "markdown",
   "id": "48c89eef",
   "metadata": {},
   "source": [
    "Make a plot of the eigenvalues"
   ]
  },
  {
   "cell_type": "code",
   "execution_count": null,
   "id": "2764adc8",
   "metadata": {},
   "outputs": [],
   "source": [
    "plt.plot(ev, '-o')\n",
    "plt.ylabel('Eigenvalue')\n",
    "plt.show()"
   ]
  },
  {
   "cell_type": "markdown",
   "id": "711a676c",
   "metadata": {},
   "source": [
    "The first 8 or so PCs look important perhaps.  Let's look:"
   ]
  },
  {
   "cell_type": "code",
   "execution_count": null,
   "id": "9ddf5990",
   "metadata": {
    "scrolled": false
   },
   "outputs": [],
   "source": [
    "times = coefs.Times()\n",
    "pc = ssa.getPC()\n",
    "\n",
    "rows, cols = pc.shape\n",
    "\n",
    "for i in range(min(cols,4)):\n",
    "    plt.plot(times[0:rows], pc[:,i], '-', label=\"{:d}\".format(i))\n",
    "\n",
    "plt.xlabel('Time')\n",
    "plt.ylabel('PC')\n",
    "plt.legend()\n",
    "plt.title(\"Principal components (left-singular vectors)\")\n",
    "plt.show()\n",
    "\n",
    "for i in range(4, min(cols,8)):\n",
    "    plt.plot(times[0:rows], pc[:,i], '-', label=\"{:d}\".format(i))\n",
    "\n",
    "plt.xlabel('Time')\n",
    "plt.ylabel('PC')\n",
    "plt.legend()\n",
    "plt.title(\"Principal components (left-singular vectors)\")\n",
    "plt.show()\n"
   ]
  },
  {
   "cell_type": "markdown",
   "id": "21e9dffc",
   "metadata": {},
   "source": [
    "Let's look at the combination of PC 0 and 1"
   ]
  },
  {
   "cell_type": "code",
   "execution_count": null,
   "id": "e69d321d",
   "metadata": {},
   "outputs": [],
   "source": [
    "plt.semilogy(times[0:rows], np.sqrt(pc[:,0]**2 + pc[:,1]**2))\n",
    "plt.xlabel('Time')\n",
    "plt.ylabel('Total')\n",
    "plt.show()"
   ]
  }
 ],
 "metadata": {
  "kernelspec": {
   "display_name": "Python 3 (ipykernel)",
   "language": "python",
   "name": "python3"
  },
  "language_info": {
   "codemirror_mode": {
    "name": "ipython",
    "version": 3
   },
   "file_extension": ".py",
   "mimetype": "text/x-python",
   "name": "python",
   "nbconvert_exporter": "python",
   "pygments_lexer": "ipython3",
   "version": "3.10.4"
  }
 },
 "nbformat": 4,
 "nbformat_minor": 5
}
